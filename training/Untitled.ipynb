{
 "cells": [
  {
   "cell_type": "code",
   "execution_count": 1,
   "id": "970ce797-cc20-4573-974f-783c2f522152",
   "metadata": {},
   "outputs": [
    {
     "name": "stdout",
     "output_type": "stream",
     "text": [
      "WARNING:tensorflow:From C:\\Users\\sevval\\anaconda3\\envs\\DL1\\lib\\site-packages\\keras\\src\\losses.py:2976: The name tf.losses.sparse_softmax_cross_entropy is deprecated. Please use tf.compat.v1.losses.sparse_softmax_cross_entropy instead.\n",
      "\n"
     ]
    }
   ],
   "source": [
    "import tensorflow as tf\n",
    "from tensorflow.keras import models, layers\n",
    "import matplotlib.pyplot as plt\n",
    "from IPython.display import HTML\n",
    "\n",
    "from tensorflow.keras.preprocessing.image import ImageDataGenerator"
   ]
  },
  {
   "cell_type": "code",
   "execution_count": 2,
   "id": "ead967e8-9138-4a55-b38a-214e5371d875",
   "metadata": {},
   "outputs": [
    {
     "name": "stdout",
     "output_type": "stream",
     "text": [
      "Found 15000 images belonging to 15 classes.\n"
     ]
    }
   ],
   "source": [
    "IMAGE_SIZE =224\n",
    "CHANNEL=3\n",
    "\n",
    "train_datagen= ImageDataGenerator(\n",
    "    rescale=1./255,\n",
    "    horizontal_flip=True,\n",
    "    rotation_range=10\n",
    ")\n",
    "\n",
    "train_generator=  train_datagen.flow_from_directory(\n",
    "    'dataset/train',\n",
    "    target_size=(IMAGE_SIZE,IMAGE_SIZE),\n",
    "    batch_size=64,\n",
    "    class_mode='sparse'\n",
    ")"
   ]
  },
  {
   "cell_type": "code",
   "execution_count": 3,
   "id": "0d3d35ad-a9fd-45c6-aebc-7883ffa5d2e0",
   "metadata": {},
   "outputs": [
    {
     "name": "stdout",
     "output_type": "stream",
     "text": [
      "[[[0.06602884 0.06931257 0.04970473]\n",
      "  [0.04505418 0.04537367 0.03657207]\n",
      "  [0.02512971 0.03233273 0.02088808]\n",
      "  ...\n",
      "  [0.38129765 0.425616   0.18992817]\n",
      "  [0.38116384 0.4243011  0.18900697]\n",
      "  [0.38103002 0.42416728 0.18887314]]\n",
      "\n",
      " [[0.06589501 0.06904493 0.04943708]\n",
      "  [0.04545565 0.04584205 0.03683971]\n",
      "  [0.02546426 0.03253346 0.02115572]\n",
      "  ...\n",
      "  [0.37345564 0.41812888 0.18232277]\n",
      "  [0.37332183 0.41645908 0.18116497]\n",
      "  [0.37318802 0.41632527 0.18103114]]\n",
      "\n",
      " [[0.06285118 0.06586727 0.04625943]\n",
      "  [0.042726   0.0431793  0.03397624]\n",
      "  [0.02488491 0.03182028 0.02050946]\n",
      "  ...\n",
      "  [0.3562344  0.4099757  0.16767922]\n",
      "  [0.35487604 0.4086171  0.16625376]\n",
      "  [0.35454148 0.4084833  0.16598612]]\n",
      "\n",
      " ...\n",
      "\n",
      " [[0.6392966  0.59351796 0.43793547]\n",
      "  [0.63849366 0.5929827  0.43766785]\n",
      "  [0.6287204  0.58501285 0.4282289 ]\n",
      "  ...\n",
      "  [0.72508824 0.7294637  0.7107636 ]\n",
      "  [0.72208333 0.7316806  0.7202508 ]\n",
      "  [0.71948975 0.7426255  0.7338922 ]]\n",
      "\n",
      " [[0.59160566 0.5605526  0.4216125 ]\n",
      "  [0.5906689  0.5596827  0.42121106]\n",
      "  [0.5879801  0.55712    0.41734403]\n",
      "  ...\n",
      "  [0.7254902  0.7297988  0.71096486]\n",
      "  [0.72510386 0.73449254 0.72311425]\n",
      "  [0.7211828  0.74471223 0.7368691 ]]\n",
      "\n",
      " [[0.5424522  0.5153201  0.4031892 ]\n",
      "  [0.5427198  0.5156546  0.40385827]\n",
      "  [0.54322696 0.5166738  0.4020451 ]\n",
      "  ...\n",
      "  [0.7254902  0.72973186 0.7107641 ]\n",
      "  [0.7251708  0.73429185 0.7228466 ]\n",
      "  [0.72124976 0.74477917 0.73693603]]]\n"
     ]
    }
   ],
   "source": [
    "for image_batch, label_batch in train_generator:\n",
    "    print(image_batch[0])\n",
    "    break"
   ]
  },
  {
   "cell_type": "code",
   "execution_count": 4,
   "id": "5ff554ee-d159-4f97-b857-14f26450c676",
   "metadata": {},
   "outputs": [
    {
     "name": "stdout",
     "output_type": "stream",
     "text": [
      "Found 3000 images belonging to 15 classes.\n"
     ]
    }
   ],
   "source": [
    "validation_datagen= ImageDataGenerator(\n",
    "    rescale=1./255,\n",
    "    horizontal_flip=True,\n",
    "    rotation_range=10\n",
    ")\n",
    "\n",
    "validation_generator=validation_datagen.flow_from_directory(\n",
    "    'dataset/validation',\n",
    "    target_size=(IMAGE_SIZE,IMAGE_SIZE),\n",
    "    batch_size=64,\n",
    "    class_mode='sparse'\n",
    ")"
   ]
  },
  {
   "cell_type": "code",
   "execution_count": 5,
   "id": "54da3da4-d01a-4ce6-887e-2d84be5dac23",
   "metadata": {},
   "outputs": [
    {
     "name": "stdout",
     "output_type": "stream",
     "text": [
      "Found 3000 images belonging to 15 classes.\n"
     ]
    }
   ],
   "source": [
    "test_datagen= ImageDataGenerator(\n",
    "    rescale=1./255,\n",
    "    horizontal_flip=True,\n",
    "    rotation_range=10\n",
    ")\n",
    "\n",
    "test_generator=test_datagen.flow_from_directory(\n",
    "    'dataset/test',\n",
    "    target_size=(IMAGE_SIZE,IMAGE_SIZE),\n",
    "    batch_size=64,\n",
    "    class_mode='sparse'\n",
    ")"
   ]
  },
  {
   "cell_type": "code",
   "execution_count": 6,
   "id": "b9af9ac6-efbb-4017-96a2-e2946c88c3cb",
   "metadata": {},
   "outputs": [
    {
     "name": "stdout",
     "output_type": "stream",
     "text": [
      "WARNING:tensorflow:From C:\\Users\\sevval\\anaconda3\\envs\\DL1\\lib\\site-packages\\keras\\src\\backend.py:1398: The name tf.executing_eagerly_outside_functions is deprecated. Please use tf.compat.v1.executing_eagerly_outside_functions instead.\n",
      "\n",
      "WARNING:tensorflow:From C:\\Users\\sevval\\anaconda3\\envs\\DL1\\lib\\site-packages\\keras\\src\\layers\\pooling\\max_pooling2d.py:161: The name tf.nn.max_pool is deprecated. Please use tf.nn.max_pool2d instead.\n",
      "\n"
     ]
    }
   ],
   "source": [
    "input_shape=(IMAGE_SIZE,IMAGE_SIZE, CHANNEL)\n",
    "n_classes=15\n",
    "\n",
    "model=models.Sequential([\n",
    "    layers.InputLayer(input_shape=input_shape),\n",
    "    layers.Conv2D(32, kernel_size=(3,3), activation='relu'),\n",
    "    layers.MaxPool2D((2,2)),\n",
    "    layers.Conv2D(64,kernel_size=(3,3), activation='relu'),\n",
    "    layers.MaxPool2D((2,2)),\n",
    "    layers.Conv2D(64,kernel_size=(3,3), activation='relu'),\n",
    "    layers.MaxPool2D((2,2)),\n",
    "    layers.Conv2D(64, (3,3), activation='relu'),\n",
    "    layers.MaxPool2D((2,2)),\n",
    "    layers.Conv2D(64, (3,3), activation='relu'),\n",
    "    layers.MaxPool2D((2,2)),\n",
    "    layers.Conv2D(64, (3,3), activation='relu'),\n",
    "    layers.MaxPool2D((2,2)),\n",
    "    layers.Flatten(),\n",
    "    layers.Dense(64, activation='relu'),\n",
    "    layers.Dense(n_classes, activation='softmax')\n",
    "])"
   ]
  },
  {
   "cell_type": "code",
   "execution_count": 7,
   "id": "8c9fcc2a-aba1-4e6f-bfaf-ec670ffc95e5",
   "metadata": {},
   "outputs": [
    {
     "name": "stdout",
     "output_type": "stream",
     "text": [
      "Model: \"sequential\"\n",
      "_________________________________________________________________\n",
      " Layer (type)                Output Shape              Param #   \n",
      "=================================================================\n",
      " conv2d (Conv2D)             (None, 222, 222, 32)      896       \n",
      "                                                                 \n",
      " max_pooling2d (MaxPooling2  (None, 111, 111, 32)      0         \n",
      " D)                                                              \n",
      "                                                                 \n",
      " conv2d_1 (Conv2D)           (None, 109, 109, 64)      18496     \n",
      "                                                                 \n",
      " max_pooling2d_1 (MaxPoolin  (None, 54, 54, 64)        0         \n",
      " g2D)                                                            \n",
      "                                                                 \n",
      " conv2d_2 (Conv2D)           (None, 52, 52, 64)        36928     \n",
      "                                                                 \n",
      " max_pooling2d_2 (MaxPoolin  (None, 26, 26, 64)        0         \n",
      " g2D)                                                            \n",
      "                                                                 \n",
      " conv2d_3 (Conv2D)           (None, 24, 24, 64)        36928     \n",
      "                                                                 \n",
      " max_pooling2d_3 (MaxPoolin  (None, 12, 12, 64)        0         \n",
      " g2D)                                                            \n",
      "                                                                 \n",
      " conv2d_4 (Conv2D)           (None, 10, 10, 64)        36928     \n",
      "                                                                 \n",
      " max_pooling2d_4 (MaxPoolin  (None, 5, 5, 64)          0         \n",
      " g2D)                                                            \n",
      "                                                                 \n",
      " conv2d_5 (Conv2D)           (None, 3, 3, 64)          36928     \n",
      "                                                                 \n",
      " max_pooling2d_5 (MaxPoolin  (None, 1, 1, 64)          0         \n",
      " g2D)                                                            \n",
      "                                                                 \n",
      " flatten (Flatten)           (None, 64)                0         \n",
      "                                                                 \n",
      " dense (Dense)               (None, 64)                4160      \n",
      "                                                                 \n",
      " dense_1 (Dense)             (None, 15)                975       \n",
      "                                                                 \n",
      "=================================================================\n",
      "Total params: 172239 (672.81 KB)\n",
      "Trainable params: 172239 (672.81 KB)\n",
      "Non-trainable params: 0 (0.00 Byte)\n",
      "_________________________________________________________________\n"
     ]
    }
   ],
   "source": [
    "model.summary()"
   ]
  },
  {
   "cell_type": "code",
   "execution_count": 8,
   "id": "d42f6498-0593-4948-9422-628b75b24d5d",
   "metadata": {},
   "outputs": [
    {
     "name": "stdout",
     "output_type": "stream",
     "text": [
      "WARNING:tensorflow:From C:\\Users\\sevval\\anaconda3\\envs\\DL1\\lib\\site-packages\\keras\\src\\optimizers\\__init__.py:309: The name tf.train.Optimizer is deprecated. Please use tf.compat.v1.train.Optimizer instead.\n",
      "\n"
     ]
    }
   ],
   "source": [
    "model.compile(\n",
    "    optimizer='adam',\n",
    "    loss=tf.keras.losses.SparseCategoricalCrossentropy(from_logits=False),\n",
    "    metrics=['accuracy']\n",
    ")"
   ]
  },
  {
   "cell_type": "code",
   "execution_count": 9,
   "id": "e1f8f64a-8d77-4020-8f02-93f5e7e10d4d",
   "metadata": {},
   "outputs": [
    {
     "data": {
      "text/plain": [
       "234.375"
      ]
     },
     "execution_count": 9,
     "metadata": {},
     "output_type": "execute_result"
    }
   ],
   "source": [
    "15000/64"
   ]
  },
  {
   "cell_type": "code",
   "execution_count": 10,
   "id": "15b03b0f-3d95-4bca-bf06-35e1f5f43034",
   "metadata": {},
   "outputs": [
    {
     "data": {
      "text/plain": [
       "46.875"
      ]
     },
     "execution_count": 10,
     "metadata": {},
     "output_type": "execute_result"
    }
   ],
   "source": [
    "3000/64"
   ]
  },
  {
   "cell_type": "code",
   "execution_count": null,
   "id": "a7e15e86-a805-46bd-a500-86744746a75a",
   "metadata": {},
   "outputs": [
    {
     "name": "stdout",
     "output_type": "stream",
     "text": [
      "Epoch 1/15\n",
      "WARNING:tensorflow:From C:\\Users\\sevval\\anaconda3\\envs\\DL1\\lib\\site-packages\\keras\\src\\utils\\tf_utils.py:492: The name tf.ragged.RaggedTensorValue is deprecated. Please use tf.compat.v1.ragged.RaggedTensorValue instead.\n",
      "\n",
      "WARNING:tensorflow:From C:\\Users\\sevval\\anaconda3\\envs\\DL1\\lib\\site-packages\\keras\\src\\engine\\base_layer_utils.py:384: The name tf.executing_eagerly_outside_functions is deprecated. Please use tf.compat.v1.executing_eagerly_outside_functions instead.\n",
      "\n",
      "234/234 [==============================] - 556s 2s/step - loss: 1.8884 - accuracy: 0.3275 - val_loss: 1.5215 - val_accuracy: 0.4562\n",
      "Epoch 2/15\n",
      "217/234 [==========================>...] - ETA: 25s - loss: 1.2955 - accuracy: 0.5372"
     ]
    }
   ],
   "source": [
    "history= model.fit(\n",
    "    train_generator,\n",
    "    steps_per_epoch=234,\n",
    "    batch_size=32,\n",
    "    validation_data=validation_generator,\n",
    "    validation_steps=46,\n",
    "    verbose=1,\n",
    "    epochs=15,\n",
    ")"
   ]
  },
  {
   "cell_type": "code",
   "execution_count": null,
   "id": "9f6322e8-3e18-415f-b000-ec16767d5d28",
   "metadata": {},
   "outputs": [],
   "source": [
    "scores=model.evaluate(test_generator)"
   ]
  },
  {
   "cell_type": "code",
   "execution_count": null,
   "id": "252f0789-56e5-44bd-a4eb-cabb464caf41",
   "metadata": {},
   "outputs": [],
   "source": [
    "scores"
   ]
  },
  {
   "cell_type": "code",
   "execution_count": null,
   "id": "d6499850-29e5-4951-9a93-93153496aff5",
   "metadata": {},
   "outputs": [],
   "source": [
    "history"
   ]
  },
  {
   "cell_type": "code",
   "execution_count": null,
   "id": "4241c0d8-9418-4f17-8d09-4aa1224e6caf",
   "metadata": {},
   "outputs": [],
   "source": [
    "history.params"
   ]
  },
  {
   "cell_type": "code",
   "execution_count": null,
   "id": "159a3b6f-8f3f-4062-8df1-100d8b511513",
   "metadata": {},
   "outputs": [],
   "source": [
    "history.history.keys()"
   ]
  },
  {
   "cell_type": "code",
   "execution_count": null,
   "id": "428b1789-59f5-4155-9807-b835373670f3",
   "metadata": {},
   "outputs": [],
   "source": [
    "type(history.history['loss'])"
   ]
  },
  {
   "cell_type": "code",
   "execution_count": null,
   "id": "cd926c88-5c44-463f-af2f-e5193f0bfa7c",
   "metadata": {},
   "outputs": [],
   "source": [
    "len(history.history['loss'])"
   ]
  },
  {
   "cell_type": "code",
   "execution_count": null,
   "id": "4fc6b608-aa12-4c82-a335-66552278eab0",
   "metadata": {},
   "outputs": [],
   "source": [
    "history.history['loss'][:5]"
   ]
  },
  {
   "cell_type": "code",
   "execution_count": null,
   "id": "ab7e1729-2191-4733-bfaa-1292fe05e7be",
   "metadata": {},
   "outputs": [],
   "source": [
    "acc=history.history[\"accuracy\"]\n",
    "val_acc=history.history[\"val_accuracy\"]\n",
    "\n",
    "loss=history.history[\"loss\"]\n",
    "val_loss=history.history[\"val_loss\"]"
   ]
  },
  {
   "cell_type": "code",
   "execution_count": null,
   "id": "9b93ebaf-4173-4cd1-8fb8-1925bab547fa",
   "metadata": {},
   "outputs": [],
   "source": [
    "val_acc\n"
   ]
  },
  {
   "cell_type": "code",
   "execution_count": null,
   "id": "a9295b3a-2f8e-4510-8908-0a57da6b967d",
   "metadata": {},
   "outputs": [],
   "source": [
    "acc"
   ]
  },
  {
   "cell_type": "code",
   "execution_count": null,
   "id": "b3f563b5-a88d-429a-a8fc-44b6735f1d79",
   "metadata": {},
   "outputs": [],
   "source": [
    "EPOCHS=15\n",
    "\n",
    "plt.figure(figsize=(8,8))\n",
    "plt.subplot(1,2,1)\n",
    "plt.plot(range(EPOCHS),acc, label=\"training accuracy\")\n",
    "plt.plot(range(EPOCHS),val_acc, label=\"validation accuracy\")\n",
    "plt.legend(loc=\"lower right\")\n",
    "plt.title(\"training and validation accuracy\")\n",
    "\n",
    "\n",
    "plt.subplot(1,2,2)\n",
    "plt.plot(range(EPOCHS),loss, label=\"training loss\")\n",
    "plt.plot(range(EPOCHS),val_loss, label=\"validation loss\")\n",
    "plt.legend(loc=\"upper right\")\n",
    "plt.title(\"training and validation loss\")\n",
    "plt.show()"
   ]
  },
  {
   "cell_type": "code",
   "execution_count": null,
   "id": "b42be903-16e7-49af-abc0-509ce1b810c0",
   "metadata": {},
   "outputs": [],
   "source": [
    "train_generator.class_indices"
   ]
  },
  {
   "cell_type": "code",
   "execution_count": null,
   "id": "1de8d09f-d47d-43c7-a468-50e5a8bc2066",
   "metadata": {},
   "outputs": [],
   "source": [
    "class_names = list(train_generator.class_indices.keys())\n",
    "class_names"
   ]
  },
  {
   "cell_type": "code",
   "execution_count": null,
   "id": "b6eecf34-ad25-45ed-b9a2-e4a14224cec0",
   "metadata": {},
   "outputs": [],
   "source": [
    "import numpy as np\n",
    "\n",
    "\n",
    "for image_batch, label_batch in test_generator:\n",
    "    first_image = image_batch[0]\n",
    "    first_label = int(label_batch[0])\n",
    "    \n",
    "    print(\"first image to predict\")\n",
    "    plt.imshow(first_image)\n",
    "    print(\"actual label:\",class_names[first_label])\n",
    "    \n",
    "    batch_prediction = model.predict(image_batch)\n",
    "    print(\"predicted label:\",class_names[np.argmax(batch_prediction[0])])\n",
    "    \n",
    "    break"
   ]
  },
  {
   "cell_type": "code",
   "execution_count": null,
   "id": "192a85e9-2cef-4534-ae08-9a9ddacfe753",
   "metadata": {},
   "outputs": [],
   "source": [
    "def predict(model, img):\n",
    "    img_array=tf.keras.preprocessing.image.img_to_array(images[i])\n",
    "    img_array=tf.expand_dims(img_array,0) #create a batch\n",
    "\n",
    "    predictions=model.predict(img_array)\n",
    "\n",
    "    predicted_class=class_names[np.argmax(predictions[0])]\n",
    "    confidence=round(100*(np.max(predictions[0])),2)\n",
    "    return predicted_class, confidence"
   ]
  },
  {
   "cell_type": "code",
   "execution_count": null,
   "id": "d6f1d85f-7ba6-4999-a4fc-c6fe17236869",
   "metadata": {},
   "outputs": [],
   "source": [
    "plt.figure(figsize=(15,15))\n",
    "for images, labels in test_generator:\n",
    "    for i in range (9):\n",
    "        ax=plt.subplot(3,3,i+1)\n",
    "        plt.imshow(images[i])\n",
    "\n",
    "        predicted_class, confidence=predict(model, images[i])\n",
    "        actual_class=class_names[int(labels[i])]\n",
    "\n",
    "        plt.title(f\"Actual: {actual_class},\\n Predicted: {predicted_class},\\n Confidence: {confidence}&\")\n",
    "        \n",
    "        plt.axis(\"off\")\n",
    "    break"
   ]
  },
  {
   "cell_type": "code",
   "execution_count": null,
   "id": "97094869-42d1-478c-b322-36a0c13f7136",
   "metadata": {},
   "outputs": [],
   "source": [
    "model.save(\"../vegetables.h5\")"
   ]
  },
  {
   "cell_type": "code",
   "execution_count": null,
   "id": "a86060a9-df70-46e3-bb22-11dd4534734e",
   "metadata": {},
   "outputs": [],
   "source": []
  },
  {
   "cell_type": "code",
   "execution_count": null,
   "id": "324a82d5-9ed2-43f8-8cb5-ab0247d5d51f",
   "metadata": {},
   "outputs": [],
   "source": []
  },
  {
   "cell_type": "code",
   "execution_count": null,
   "id": "224b4c4d-2551-44be-a91c-23c35c0038aa",
   "metadata": {},
   "outputs": [],
   "source": []
  }
 ],
 "metadata": {
  "kernelspec": {
   "display_name": "Python 3 (ipykernel)",
   "language": "python",
   "name": "python3"
  },
  "language_info": {
   "codemirror_mode": {
    "name": "ipython",
    "version": 3
   },
   "file_extension": ".py",
   "mimetype": "text/x-python",
   "name": "python",
   "nbconvert_exporter": "python",
   "pygments_lexer": "ipython3",
   "version": "3.10.13"
  }
 },
 "nbformat": 4,
 "nbformat_minor": 5
}
